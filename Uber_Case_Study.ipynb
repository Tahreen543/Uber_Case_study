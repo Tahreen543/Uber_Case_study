{
 "cells": [
  {
   "cell_type": "markdown",
   "id": "45cb24c7",
   "metadata": {},
   "source": [
    "# ------------- :Uber Case_Study:----------------"
   ]
  },
  {
   "cell_type": "code",
   "execution_count": 1,
   "id": "d11ccd94",
   "metadata": {},
   "outputs": [],
   "source": [
    "import numpy as np\n",
    "import pandas as pd\n",
    "import matplotlib.pyplot as plt\n",
    "import seaborn as sns"
   ]
  },
  {
   "cell_type": "markdown",
   "id": "b9b2ebaf",
   "metadata": {},
   "source": [
    "## 1. Facts and Figures about our dataset(Understanding the data)"
   ]
  },
  {
   "cell_type": "code",
   "execution_count": 2,
   "id": "9a0cce00",
   "metadata": {},
   "outputs": [
    {
     "data": {
      "text/html": [
       "<div>\n",
       "<style scoped>\n",
       "    .dataframe tbody tr th:only-of-type {\n",
       "        vertical-align: middle;\n",
       "    }\n",
       "\n",
       "    .dataframe tbody tr th {\n",
       "        vertical-align: top;\n",
       "    }\n",
       "\n",
       "    .dataframe thead th {\n",
       "        text-align: right;\n",
       "    }\n",
       "</style>\n",
       "<table border=\"1\" class=\"dataframe\">\n",
       "  <thead>\n",
       "    <tr style=\"text-align: right;\">\n",
       "      <th></th>\n",
       "      <th>Request id</th>\n",
       "      <th>Pickup point</th>\n",
       "      <th>Driver id</th>\n",
       "      <th>Status</th>\n",
       "      <th>Request timestamp</th>\n",
       "      <th>Drop timestamp</th>\n",
       "    </tr>\n",
       "  </thead>\n",
       "  <tbody>\n",
       "    <tr>\n",
       "      <th>0</th>\n",
       "      <td>619</td>\n",
       "      <td>Airport</td>\n",
       "      <td>1.0</td>\n",
       "      <td>Trip Completed</td>\n",
       "      <td>11/7/2016 11:51</td>\n",
       "      <td>11/7/2016 13:00</td>\n",
       "    </tr>\n",
       "    <tr>\n",
       "      <th>1</th>\n",
       "      <td>867</td>\n",
       "      <td>Airport</td>\n",
       "      <td>1.0</td>\n",
       "      <td>Trip Completed</td>\n",
       "      <td>11/7/2016 17:57</td>\n",
       "      <td>11/7/2016 18:47</td>\n",
       "    </tr>\n",
       "    <tr>\n",
       "      <th>2</th>\n",
       "      <td>1807</td>\n",
       "      <td>City</td>\n",
       "      <td>1.0</td>\n",
       "      <td>Trip Completed</td>\n",
       "      <td>12/7/2016 9:17</td>\n",
       "      <td>12/7/2016 9:58</td>\n",
       "    </tr>\n",
       "    <tr>\n",
       "      <th>3</th>\n",
       "      <td>2532</td>\n",
       "      <td>Airport</td>\n",
       "      <td>1.0</td>\n",
       "      <td>Trip Completed</td>\n",
       "      <td>12/7/2016 21:08</td>\n",
       "      <td>12/7/2016 22:03</td>\n",
       "    </tr>\n",
       "    <tr>\n",
       "      <th>4</th>\n",
       "      <td>3112</td>\n",
       "      <td>City</td>\n",
       "      <td>1.0</td>\n",
       "      <td>Trip Completed</td>\n",
       "      <td>13-07-2016 08:33:16</td>\n",
       "      <td>13-07-2016 09:25:47</td>\n",
       "    </tr>\n",
       "  </tbody>\n",
       "</table>\n",
       "</div>"
      ],
      "text/plain": [
       "   Request id Pickup point  Driver id          Status    Request timestamp  \\\n",
       "0         619      Airport        1.0  Trip Completed      11/7/2016 11:51   \n",
       "1         867      Airport        1.0  Trip Completed      11/7/2016 17:57   \n",
       "2        1807         City        1.0  Trip Completed       12/7/2016 9:17   \n",
       "3        2532      Airport        1.0  Trip Completed      12/7/2016 21:08   \n",
       "4        3112         City        1.0  Trip Completed  13-07-2016 08:33:16   \n",
       "\n",
       "        Drop timestamp  \n",
       "0      11/7/2016 13:00  \n",
       "1      11/7/2016 18:47  \n",
       "2       12/7/2016 9:58  \n",
       "3      12/7/2016 22:03  \n",
       "4  13-07-2016 09:25:47  "
      ]
     },
     "execution_count": 2,
     "metadata": {},
     "output_type": "execute_result"
    }
   ],
   "source": [
    "# read the file :\n",
    "df = pd.read_csv(\"Uber Request Data.csv\")\n",
    "df.head()"
   ]
  },
  {
   "cell_type": "code",
   "execution_count": 3,
   "id": "a6aab207",
   "metadata": {},
   "outputs": [
    {
     "data": {
      "text/plain": [
       "6745"
      ]
     },
     "execution_count": 3,
     "metadata": {},
     "output_type": "execute_result"
    }
   ],
   "source": [
    "# total no of rows:\n",
    "len(df[\"Request id\"].unique())"
   ]
  },
  {
   "cell_type": "code",
   "execution_count": 4,
   "id": "695fe5ca",
   "metadata": {},
   "outputs": [
    {
     "data": {
      "text/plain": [
       "(6745, 6)"
      ]
     },
     "execution_count": 4,
     "metadata": {},
     "output_type": "execute_result"
    }
   ],
   "source": [
    "# total nos of \"row\" & \"columns\":\n",
    "# shape\" func:\n",
    "# row comes first & columns comes next in parantheses:-\n",
    "df.shape"
   ]
  },
  {
   "cell_type": "code",
   "execution_count": 5,
   "id": "c98d8a64",
   "metadata": {},
   "outputs": [
    {
     "data": {
      "text/plain": [
       "Request id            0.000000\n",
       "Pickup point          0.000000\n",
       "Driver id            39.288362\n",
       "Status                0.000000\n",
       "Request timestamp     0.000000\n",
       "Drop timestamp       58.028169\n",
       "dtype: float64"
      ]
     },
     "execution_count": 5,
     "metadata": {},
     "output_type": "execute_result"
    }
   ],
   "source": [
    "# Nan Values: how many rows have nan or missing values in every columns\n",
    "# \"isnull().sum()\"\n",
    "# \"f.shape[0]\" gives the number of rows: \n",
    "\n",
    "df.isnull().sum()/df.shape[0]*100"
   ]
  },
  {
   "cell_type": "markdown",
   "id": "d638f30d",
   "metadata": {},
   "source": [
    "#### Details of column names,dtypes,non-null count for the given data:"
   ]
  },
  {
   "cell_type": "code",
   "execution_count": 6,
   "id": "f6146a7e",
   "metadata": {},
   "outputs": [
    {
     "name": "stdout",
     "output_type": "stream",
     "text": [
      "<class 'pandas.core.frame.DataFrame'>\n",
      "RangeIndex: 6745 entries, 0 to 6744\n",
      "Data columns (total 6 columns):\n",
      " #   Column             Non-Null Count  Dtype  \n",
      "---  ------             --------------  -----  \n",
      " 0   Request id         6745 non-null   int64  \n",
      " 1   Pickup point       6745 non-null   object \n",
      " 2   Driver id          4095 non-null   float64\n",
      " 3   Status             6745 non-null   object \n",
      " 4   Request timestamp  6745 non-null   object \n",
      " 5   Drop timestamp     2831 non-null   object \n",
      "dtypes: float64(1), int64(1), object(4)\n",
      "memory usage: 316.3+ KB\n"
     ]
    }
   ],
   "source": [
    "df.info()"
   ]
  },
  {
   "cell_type": "markdown",
   "id": "bce06906",
   "metadata": {},
   "source": [
    "### Statistical summary for both 'numerical' & 'object' columns in place"
   ]
  },
  {
   "cell_type": "code",
   "execution_count": 7,
   "id": "399ee480",
   "metadata": {},
   "outputs": [
    {
     "data": {
      "text/html": [
       "<div>\n",
       "<style scoped>\n",
       "    .dataframe tbody tr th:only-of-type {\n",
       "        vertical-align: middle;\n",
       "    }\n",
       "\n",
       "    .dataframe tbody tr th {\n",
       "        vertical-align: top;\n",
       "    }\n",
       "\n",
       "    .dataframe thead th {\n",
       "        text-align: right;\n",
       "    }\n",
       "</style>\n",
       "<table border=\"1\" class=\"dataframe\">\n",
       "  <thead>\n",
       "    <tr style=\"text-align: right;\">\n",
       "      <th></th>\n",
       "      <th>Request id</th>\n",
       "      <th>Pickup point</th>\n",
       "      <th>Driver id</th>\n",
       "      <th>Status</th>\n",
       "      <th>Request timestamp</th>\n",
       "      <th>Drop timestamp</th>\n",
       "    </tr>\n",
       "  </thead>\n",
       "  <tbody>\n",
       "    <tr>\n",
       "      <th>count</th>\n",
       "      <td>6745.000000</td>\n",
       "      <td>6745</td>\n",
       "      <td>4095.000000</td>\n",
       "      <td>6745</td>\n",
       "      <td>6745</td>\n",
       "      <td>2831</td>\n",
       "    </tr>\n",
       "    <tr>\n",
       "      <th>unique</th>\n",
       "      <td>NaN</td>\n",
       "      <td>2</td>\n",
       "      <td>NaN</td>\n",
       "      <td>3</td>\n",
       "      <td>5618</td>\n",
       "      <td>2598</td>\n",
       "    </tr>\n",
       "    <tr>\n",
       "      <th>top</th>\n",
       "      <td>NaN</td>\n",
       "      <td>City</td>\n",
       "      <td>NaN</td>\n",
       "      <td>Trip Completed</td>\n",
       "      <td>11/7/2016 19:02</td>\n",
       "      <td>11/7/2016 13:00</td>\n",
       "    </tr>\n",
       "    <tr>\n",
       "      <th>freq</th>\n",
       "      <td>NaN</td>\n",
       "      <td>3507</td>\n",
       "      <td>NaN</td>\n",
       "      <td>2831</td>\n",
       "      <td>6</td>\n",
       "      <td>4</td>\n",
       "    </tr>\n",
       "    <tr>\n",
       "      <th>mean</th>\n",
       "      <td>3384.644922</td>\n",
       "      <td>NaN</td>\n",
       "      <td>149.501343</td>\n",
       "      <td>NaN</td>\n",
       "      <td>NaN</td>\n",
       "      <td>NaN</td>\n",
       "    </tr>\n",
       "    <tr>\n",
       "      <th>std</th>\n",
       "      <td>1955.099667</td>\n",
       "      <td>NaN</td>\n",
       "      <td>86.051994</td>\n",
       "      <td>NaN</td>\n",
       "      <td>NaN</td>\n",
       "      <td>NaN</td>\n",
       "    </tr>\n",
       "    <tr>\n",
       "      <th>min</th>\n",
       "      <td>1.000000</td>\n",
       "      <td>NaN</td>\n",
       "      <td>1.000000</td>\n",
       "      <td>NaN</td>\n",
       "      <td>NaN</td>\n",
       "      <td>NaN</td>\n",
       "    </tr>\n",
       "    <tr>\n",
       "      <th>25%</th>\n",
       "      <td>1691.000000</td>\n",
       "      <td>NaN</td>\n",
       "      <td>75.000000</td>\n",
       "      <td>NaN</td>\n",
       "      <td>NaN</td>\n",
       "      <td>NaN</td>\n",
       "    </tr>\n",
       "    <tr>\n",
       "      <th>50%</th>\n",
       "      <td>3387.000000</td>\n",
       "      <td>NaN</td>\n",
       "      <td>149.000000</td>\n",
       "      <td>NaN</td>\n",
       "      <td>NaN</td>\n",
       "      <td>NaN</td>\n",
       "    </tr>\n",
       "    <tr>\n",
       "      <th>75%</th>\n",
       "      <td>5080.000000</td>\n",
       "      <td>NaN</td>\n",
       "      <td>224.000000</td>\n",
       "      <td>NaN</td>\n",
       "      <td>NaN</td>\n",
       "      <td>NaN</td>\n",
       "    </tr>\n",
       "    <tr>\n",
       "      <th>max</th>\n",
       "      <td>6766.000000</td>\n",
       "      <td>NaN</td>\n",
       "      <td>300.000000</td>\n",
       "      <td>NaN</td>\n",
       "      <td>NaN</td>\n",
       "      <td>NaN</td>\n",
       "    </tr>\n",
       "  </tbody>\n",
       "</table>\n",
       "</div>"
      ],
      "text/plain": [
       "         Request id Pickup point    Driver id          Status  \\\n",
       "count   6745.000000         6745  4095.000000            6745   \n",
       "unique          NaN            2          NaN               3   \n",
       "top             NaN         City          NaN  Trip Completed   \n",
       "freq            NaN         3507          NaN            2831   \n",
       "mean    3384.644922          NaN   149.501343             NaN   \n",
       "std     1955.099667          NaN    86.051994             NaN   \n",
       "min        1.000000          NaN     1.000000             NaN   \n",
       "25%     1691.000000          NaN    75.000000             NaN   \n",
       "50%     3387.000000          NaN   149.000000             NaN   \n",
       "75%     5080.000000          NaN   224.000000             NaN   \n",
       "max     6766.000000          NaN   300.000000             NaN   \n",
       "\n",
       "       Request timestamp   Drop timestamp  \n",
       "count               6745             2831  \n",
       "unique              5618             2598  \n",
       "top      11/7/2016 19:02  11/7/2016 13:00  \n",
       "freq                   6                4  \n",
       "mean                 NaN              NaN  \n",
       "std                  NaN              NaN  \n",
       "min                  NaN              NaN  \n",
       "25%                  NaN              NaN  \n",
       "50%                  NaN              NaN  \n",
       "75%                  NaN              NaN  \n",
       "max                  NaN              NaN  "
      ]
     },
     "execution_count": 7,
     "metadata": {},
     "output_type": "execute_result"
    }
   ],
   "source": [
    "# \".describe\"\n",
    "# \"(include=\"all\")\" incdlues all columns even with nan value or dates-objects:\n",
    "\n",
    "df.describe(include=\"all\")"
   ]
  },
  {
   "cell_type": "markdown",
   "id": "5ecd230b",
   "metadata": {},
   "source": [
    "# Cleaning/ Handaling Data:"
   ]
  },
  {
   "cell_type": "code",
   "execution_count": 9,
   "id": "5734177c",
   "metadata": {},
   "outputs": [
    {
     "data": {
      "text/plain": [
       "11/7/2016 19:02        6\n",
       "11/7/2016 17:57        6\n",
       "11/7/2016 8:37         6\n",
       "11/7/2016 9:40         6\n",
       "12/7/2016 21:42        5\n",
       "                      ..\n",
       "15-07-2016 18:08:33    1\n",
       "15-07-2016 04:50:54    1\n",
       "14-07-2016 18:42:23    1\n",
       "13-07-2016 19:26:50    1\n",
       "15-07-2016 23:55:03    1\n",
       "Name: Request timestamp, Length: 5618, dtype: int64"
      ]
     },
     "execution_count": 9,
     "metadata": {},
     "output_type": "execute_result"
    }
   ],
   "source": [
    "df[\"Request timestamp\"].value_counts()"
   ]
  },
  {
   "cell_type": "code",
   "execution_count": 10,
   "id": "fb4ff7f3",
   "metadata": {},
   "outputs": [],
   "source": [
    "# time stamp dtype is 'int64' turn it in to 'str':\n",
    "# use \".astype\" func:\n",
    "\n",
    "df[\"Request timestamp\"] = df[\"Request timestamp\"].astype(str)"
   ]
  },
  {
   "cell_type": "code",
   "execution_count": 11,
   "id": "dcbfd11e",
   "metadata": {},
   "outputs": [],
   "source": [
    "# in time stamp replace '/' to '-':\n",
    "# '.replce' func:\n",
    "\n",
    "df[\"Request timestamp\"] = df[\"Request timestamp\"].replace(\"/\",\"-\")"
   ]
  },
  {
   "cell_type": "code",
   "execution_count": 12,
   "id": "7b2a6db2",
   "metadata": {},
   "outputs": [],
   "source": [
    "# change date series:\n",
    "# when day comes first: \n",
    "# use \"pd.to_datetime\" with \"dayfirst=True\":\n",
    "\n",
    "df[\"Request timestamp\"] = pd.to_datetime(df[\"Request timestamp\"],dayfirst=True)"
   ]
  },
  {
   "cell_type": "code",
   "execution_count": 13,
   "id": "73fcb12d",
   "metadata": {},
   "outputs": [
    {
     "name": "stdout",
     "output_type": "stream",
     "text": [
      "<class 'pandas.core.frame.DataFrame'>\n",
      "RangeIndex: 6745 entries, 0 to 6744\n",
      "Data columns (total 6 columns):\n",
      " #   Column             Non-Null Count  Dtype         \n",
      "---  ------             --------------  -----         \n",
      " 0   Request id         6745 non-null   int64         \n",
      " 1   Pickup point       6745 non-null   object        \n",
      " 2   Driver id          4095 non-null   float64       \n",
      " 3   Status             6745 non-null   object        \n",
      " 4   Request timestamp  6745 non-null   datetime64[ns]\n",
      " 5   Drop timestamp     2831 non-null   object        \n",
      "dtypes: datetime64[ns](1), float64(1), int64(1), object(3)\n",
      "memory usage: 316.3+ KB\n"
     ]
    }
   ],
   "source": [
    "# check in info for datetime dtype:\n",
    "# dtype should be in \"datetime\" \n",
    "\n",
    "df.info()"
   ]
  },
  {
   "cell_type": "code",
   "execution_count": 14,
   "id": "7c614a5a",
   "metadata": {},
   "outputs": [],
   "source": [
    "# likewise \"Drop timestamp\":\n",
    "\n",
    "df[\"Drop timestamp\"]=pd.to_datetime(df[\"Drop timestamp\"],dayfirst=True)"
   ]
  },
  {
   "cell_type": "code",
   "execution_count": 15,
   "id": "edcccca8",
   "metadata": {},
   "outputs": [
    {
     "name": "stdout",
     "output_type": "stream",
     "text": [
      "<class 'pandas.core.frame.DataFrame'>\n",
      "RangeIndex: 6745 entries, 0 to 6744\n",
      "Data columns (total 6 columns):\n",
      " #   Column             Non-Null Count  Dtype         \n",
      "---  ------             --------------  -----         \n",
      " 0   Request id         6745 non-null   int64         \n",
      " 1   Pickup point       6745 non-null   object        \n",
      " 2   Driver id          4095 non-null   float64       \n",
      " 3   Status             6745 non-null   object        \n",
      " 4   Request timestamp  6745 non-null   datetime64[ns]\n",
      " 5   Drop timestamp     2831 non-null   datetime64[ns]\n",
      "dtypes: datetime64[ns](2), float64(1), int64(1), object(2)\n",
      "memory usage: 316.3+ KB\n"
     ]
    }
   ],
   "source": [
    "df.info()"
   ]
  },
  {
   "cell_type": "code",
   "execution_count": 16,
   "id": "1701a175",
   "metadata": {},
   "outputs": [
    {
     "data": {
      "text/plain": [
       "0      2016-07-11 13:00:00\n",
       "1      2016-07-11 18:47:00\n",
       "2      2016-07-12 09:58:00\n",
       "3      2016-07-12 22:03:00\n",
       "4      2016-07-13 09:25:47\n",
       "               ...        \n",
       "6740                   NaT\n",
       "6741                   NaT\n",
       "6742                   NaT\n",
       "6743                   NaT\n",
       "6744                   NaT\n",
       "Name: Drop timestamp, Length: 6745, dtype: datetime64[ns]"
      ]
     },
     "execution_count": 16,
     "metadata": {},
     "output_type": "execute_result"
    }
   ],
   "source": [
    "df[\"Drop timestamp\"]"
   ]
  },
  {
   "cell_type": "markdown",
   "id": "2ddd04ea",
   "metadata": {},
   "source": [
    "# Adding two columns:"
   ]
  },
  {
   "cell_type": "markdown",
   "id": "88223e5c",
   "metadata": {},
   "source": [
    "will add 2 columns \"req_hour\" (which is hour of the reques during the day) and \"req_day\" (which is the day of the month)"
   ]
  },
  {
   "cell_type": "code",
   "execution_count": 18,
   "id": "e4cf713c",
   "metadata": {},
   "outputs": [],
   "source": [
    "# fetching the hour number from the request timestamp:\n",
    "# use \"dt.hour\"\n",
    "req_hour = df[\"Request timestamp\"].dt.hour"
   ]
  },
  {
   "cell_type": "code",
   "execution_count": 19,
   "id": "4fa1d727",
   "metadata": {},
   "outputs": [],
   "source": [
    "# adding a new col. \"req_hour\" from the hour number \n",
    "# fetching from above cell.\n",
    "\n",
    "df[\"req_hour\"] = req_hour"
   ]
  },
  {
   "cell_type": "code",
   "execution_count": 20,
   "id": "79a962c1",
   "metadata": {},
   "outputs": [],
   "source": [
    "# fetching the hday number from the request timestamp:\n",
    "# use \"dt.day\"\n",
    "req_day = df[\"Request timestamp\"].dt.day"
   ]
  },
  {
   "cell_type": "code",
   "execution_count": 21,
   "id": "c54f0b93",
   "metadata": {},
   "outputs": [],
   "source": [
    "# adding a new col. \"req_day\" from the hour number \n",
    "# fetching from above cell.\n",
    "\n",
    "df[\"req_day\"] = req_day"
   ]
  },
  {
   "cell_type": "code",
   "execution_count": 22,
   "id": "cac3c89d",
   "metadata": {},
   "outputs": [
    {
     "data": {
      "text/html": [
       "<div>\n",
       "<style scoped>\n",
       "    .dataframe tbody tr th:only-of-type {\n",
       "        vertical-align: middle;\n",
       "    }\n",
       "\n",
       "    .dataframe tbody tr th {\n",
       "        vertical-align: top;\n",
       "    }\n",
       "\n",
       "    .dataframe thead th {\n",
       "        text-align: right;\n",
       "    }\n",
       "</style>\n",
       "<table border=\"1\" class=\"dataframe\">\n",
       "  <thead>\n",
       "    <tr style=\"text-align: right;\">\n",
       "      <th></th>\n",
       "      <th>Request id</th>\n",
       "      <th>Pickup point</th>\n",
       "      <th>Driver id</th>\n",
       "      <th>Status</th>\n",
       "      <th>Request timestamp</th>\n",
       "      <th>Drop timestamp</th>\n",
       "      <th>req_hour</th>\n",
       "      <th>req_day</th>\n",
       "    </tr>\n",
       "  </thead>\n",
       "  <tbody>\n",
       "    <tr>\n",
       "      <th>0</th>\n",
       "      <td>619</td>\n",
       "      <td>Airport</td>\n",
       "      <td>1.0</td>\n",
       "      <td>Trip Completed</td>\n",
       "      <td>2016-07-11 11:51:00</td>\n",
       "      <td>2016-07-11 13:00:00</td>\n",
       "      <td>11</td>\n",
       "      <td>11</td>\n",
       "    </tr>\n",
       "    <tr>\n",
       "      <th>1</th>\n",
       "      <td>867</td>\n",
       "      <td>Airport</td>\n",
       "      <td>1.0</td>\n",
       "      <td>Trip Completed</td>\n",
       "      <td>2016-07-11 17:57:00</td>\n",
       "      <td>2016-07-11 18:47:00</td>\n",
       "      <td>17</td>\n",
       "      <td>11</td>\n",
       "    </tr>\n",
       "    <tr>\n",
       "      <th>2</th>\n",
       "      <td>1807</td>\n",
       "      <td>City</td>\n",
       "      <td>1.0</td>\n",
       "      <td>Trip Completed</td>\n",
       "      <td>2016-07-12 09:17:00</td>\n",
       "      <td>2016-07-12 09:58:00</td>\n",
       "      <td>9</td>\n",
       "      <td>12</td>\n",
       "    </tr>\n",
       "    <tr>\n",
       "      <th>3</th>\n",
       "      <td>2532</td>\n",
       "      <td>Airport</td>\n",
       "      <td>1.0</td>\n",
       "      <td>Trip Completed</td>\n",
       "      <td>2016-07-12 21:08:00</td>\n",
       "      <td>2016-07-12 22:03:00</td>\n",
       "      <td>21</td>\n",
       "      <td>12</td>\n",
       "    </tr>\n",
       "    <tr>\n",
       "      <th>4</th>\n",
       "      <td>3112</td>\n",
       "      <td>City</td>\n",
       "      <td>1.0</td>\n",
       "      <td>Trip Completed</td>\n",
       "      <td>2016-07-13 08:33:16</td>\n",
       "      <td>2016-07-13 09:25:47</td>\n",
       "      <td>8</td>\n",
       "      <td>13</td>\n",
       "    </tr>\n",
       "    <tr>\n",
       "      <th>...</th>\n",
       "      <td>...</td>\n",
       "      <td>...</td>\n",
       "      <td>...</td>\n",
       "      <td>...</td>\n",
       "      <td>...</td>\n",
       "      <td>...</td>\n",
       "      <td>...</td>\n",
       "      <td>...</td>\n",
       "    </tr>\n",
       "    <tr>\n",
       "      <th>6740</th>\n",
       "      <td>6745</td>\n",
       "      <td>City</td>\n",
       "      <td>NaN</td>\n",
       "      <td>No Cars Available</td>\n",
       "      <td>2016-07-15 23:49:03</td>\n",
       "      <td>NaT</td>\n",
       "      <td>23</td>\n",
       "      <td>15</td>\n",
       "    </tr>\n",
       "    <tr>\n",
       "      <th>6741</th>\n",
       "      <td>6752</td>\n",
       "      <td>Airport</td>\n",
       "      <td>NaN</td>\n",
       "      <td>No Cars Available</td>\n",
       "      <td>2016-07-15 23:50:05</td>\n",
       "      <td>NaT</td>\n",
       "      <td>23</td>\n",
       "      <td>15</td>\n",
       "    </tr>\n",
       "    <tr>\n",
       "      <th>6742</th>\n",
       "      <td>6751</td>\n",
       "      <td>City</td>\n",
       "      <td>NaN</td>\n",
       "      <td>No Cars Available</td>\n",
       "      <td>2016-07-15 23:52:06</td>\n",
       "      <td>NaT</td>\n",
       "      <td>23</td>\n",
       "      <td>15</td>\n",
       "    </tr>\n",
       "    <tr>\n",
       "      <th>6743</th>\n",
       "      <td>6754</td>\n",
       "      <td>City</td>\n",
       "      <td>NaN</td>\n",
       "      <td>No Cars Available</td>\n",
       "      <td>2016-07-15 23:54:39</td>\n",
       "      <td>NaT</td>\n",
       "      <td>23</td>\n",
       "      <td>15</td>\n",
       "    </tr>\n",
       "    <tr>\n",
       "      <th>6744</th>\n",
       "      <td>6753</td>\n",
       "      <td>Airport</td>\n",
       "      <td>NaN</td>\n",
       "      <td>No Cars Available</td>\n",
       "      <td>2016-07-15 23:55:03</td>\n",
       "      <td>NaT</td>\n",
       "      <td>23</td>\n",
       "      <td>15</td>\n",
       "    </tr>\n",
       "  </tbody>\n",
       "</table>\n",
       "<p>6745 rows × 8 columns</p>\n",
       "</div>"
      ],
      "text/plain": [
       "      Request id Pickup point  Driver id             Status  \\\n",
       "0            619      Airport        1.0     Trip Completed   \n",
       "1            867      Airport        1.0     Trip Completed   \n",
       "2           1807         City        1.0     Trip Completed   \n",
       "3           2532      Airport        1.0     Trip Completed   \n",
       "4           3112         City        1.0     Trip Completed   \n",
       "...          ...          ...        ...                ...   \n",
       "6740        6745         City        NaN  No Cars Available   \n",
       "6741        6752      Airport        NaN  No Cars Available   \n",
       "6742        6751         City        NaN  No Cars Available   \n",
       "6743        6754         City        NaN  No Cars Available   \n",
       "6744        6753      Airport        NaN  No Cars Available   \n",
       "\n",
       "       Request timestamp      Drop timestamp  req_hour  req_day  \n",
       "0    2016-07-11 11:51:00 2016-07-11 13:00:00        11       11  \n",
       "1    2016-07-11 17:57:00 2016-07-11 18:47:00        17       11  \n",
       "2    2016-07-12 09:17:00 2016-07-12 09:58:00         9       12  \n",
       "3    2016-07-12 21:08:00 2016-07-12 22:03:00        21       12  \n",
       "4    2016-07-13 08:33:16 2016-07-13 09:25:47         8       13  \n",
       "...                  ...                 ...       ...      ...  \n",
       "6740 2016-07-15 23:49:03                 NaT        23       15  \n",
       "6741 2016-07-15 23:50:05                 NaT        23       15  \n",
       "6742 2016-07-15 23:52:06                 NaT        23       15  \n",
       "6743 2016-07-15 23:54:39                 NaT        23       15  \n",
       "6744 2016-07-15 23:55:03                 NaT        23       15  \n",
       "\n",
       "[6745 rows x 8 columns]"
      ]
     },
     "execution_count": 22,
     "metadata": {},
     "output_type": "execute_result"
    }
   ],
   "source": [
    "# checking 'df' ..\n",
    "# two col should be included 'req_hoour' and 'req_day':\n",
    "\n",
    "df"
   ]
  },
  {
   "cell_type": "code",
   "execution_count": 23,
   "id": "cf1be758",
   "metadata": {},
   "outputs": [
    {
     "data": {
      "image/png": "[encoded data removed]",
      "text/plain": [
       "<Figure size 720x432 with 1 Axes>"
      ]
     },
     "metadata": {
      "needs_background": "light"
     },
     "output_type": "display_data"
    }
   ],
   "source": [
    "# missing or nan values: \n",
    "# for \"Trip cancelled \", \"cancelled\", 'no cars available' - \"status\"\n",
    "# making countplot:\n",
    "\n",
    "plt.figure(figsize=(10,6))\n",
    "sns.countplot(x=\"req_hour\", data= df, hue=\"Status\")\n",
    "plt.title(\"Plot of uber car's availiblity\")\n",
    "plt.show()"
   ]
  },
  {
   "cell_type": "markdown",
   "id": "e8f330f9",
   "metadata": {},
   "source": [
    "# Visualization & Analyse:"
   ]
  },
  {
   "cell_type": "code",
   "execution_count": 24,
   "id": "5331de9d",
   "metadata": {},
   "outputs": [
    {
     "data": {
      "text/plain": [
       "<Figure size 864x432 with 0 Axes>"
      ]
     },
     "metadata": {},
     "output_type": "display_data"
    },
    {
     "data": {
      "image/png": "[encoded data removed]",
      "text/plain": [
       "<Figure size 430.125x360 with 1 Axes>"
      ]
     },
     "metadata": {
      "needs_background": "light"
     },
     "output_type": "display_data"
    }
   ],
   "source": [
    "# plot for car available in city or airport:\n",
    "\n",
    "plt.figure(figsize=(12,6))\n",
    "sns.catplot(x=\"req_hour\", data= df, hue=\"Pickup point\", kind= \"count\")\n",
    "plt.title(\"request for Airport or city of hour \")\n",
    "plt.show()"
   ]
  },
  {
   "cell_type": "markdown",
   "id": "5eff6cf7",
   "metadata": {},
   "source": [
    "### as per plot:\n",
    "\n",
    "--> Between hours 5AM-9AM,almost equal amount of trips getting completed and cancelled.\n",
    "\n",
    "--> Between hours 5PM-9PM, \"No cars Available Status\" is high. as may demands are high in these time splots.\n",
    "\n",
    "--> Between hours 5AM-9AM, there is high demand in city.\n",
    "\n",
    "--> Between hours 5PM-9PM, demands are high for airport users."
   ]
  },
  {
   "cell_type": "markdown",
   "id": "4e12e3ab",
   "metadata": {},
   "source": [
    "### Adding new column 'Time_Slot' to make categories of hours from 'req_hour':"
   ]
  },
  {
   "cell_type": "code",
   "execution_count": 25,
   "id": "f4358bc9",
   "metadata": {},
   "outputs": [],
   "source": [
    "df[\"Time_Slot\"] = 0"
   ]
  },
  {
   "cell_type": "code",
   "execution_count": 26,
   "id": "5f6b3f2d",
   "metadata": {},
   "outputs": [
    {
     "data": {
      "text/html": [
       "<div>\n",
       "<style scoped>\n",
       "    .dataframe tbody tr th:only-of-type {\n",
       "        vertical-align: middle;\n",
       "    }\n",
       "\n",
       "    .dataframe tbody tr th {\n",
       "        vertical-align: top;\n",
       "    }\n",
       "\n",
       "    .dataframe thead th {\n",
       "        text-align: right;\n",
       "    }\n",
       "</style>\n",
       "<table border=\"1\" class=\"dataframe\">\n",
       "  <thead>\n",
       "    <tr style=\"text-align: right;\">\n",
       "      <th></th>\n",
       "      <th>Request id</th>\n",
       "      <th>Pickup point</th>\n",
       "      <th>Driver id</th>\n",
       "      <th>Status</th>\n",
       "      <th>Request timestamp</th>\n",
       "      <th>Drop timestamp</th>\n",
       "      <th>req_hour</th>\n",
       "      <th>req_day</th>\n",
       "      <th>Time_Slot</th>\n",
       "    </tr>\n",
       "  </thead>\n",
       "  <tbody>\n",
       "    <tr>\n",
       "      <th>0</th>\n",
       "      <td>619</td>\n",
       "      <td>Airport</td>\n",
       "      <td>1.0</td>\n",
       "      <td>Trip Completed</td>\n",
       "      <td>2016-07-11 11:51:00</td>\n",
       "      <td>2016-07-11 13:00:00</td>\n",
       "      <td>11</td>\n",
       "      <td>11</td>\n",
       "      <td>0</td>\n",
       "    </tr>\n",
       "    <tr>\n",
       "      <th>1</th>\n",
       "      <td>867</td>\n",
       "      <td>Airport</td>\n",
       "      <td>1.0</td>\n",
       "      <td>Trip Completed</td>\n",
       "      <td>2016-07-11 17:57:00</td>\n",
       "      <td>2016-07-11 18:47:00</td>\n",
       "      <td>17</td>\n",
       "      <td>11</td>\n",
       "      <td>0</td>\n",
       "    </tr>\n",
       "    <tr>\n",
       "      <th>2</th>\n",
       "      <td>1807</td>\n",
       "      <td>City</td>\n",
       "      <td>1.0</td>\n",
       "      <td>Trip Completed</td>\n",
       "      <td>2016-07-12 09:17:00</td>\n",
       "      <td>2016-07-12 09:58:00</td>\n",
       "      <td>9</td>\n",
       "      <td>12</td>\n",
       "      <td>0</td>\n",
       "    </tr>\n",
       "    <tr>\n",
       "      <th>3</th>\n",
       "      <td>2532</td>\n",
       "      <td>Airport</td>\n",
       "      <td>1.0</td>\n",
       "      <td>Trip Completed</td>\n",
       "      <td>2016-07-12 21:08:00</td>\n",
       "      <td>2016-07-12 22:03:00</td>\n",
       "      <td>21</td>\n",
       "      <td>12</td>\n",
       "      <td>0</td>\n",
       "    </tr>\n",
       "    <tr>\n",
       "      <th>4</th>\n",
       "      <td>3112</td>\n",
       "      <td>City</td>\n",
       "      <td>1.0</td>\n",
       "      <td>Trip Completed</td>\n",
       "      <td>2016-07-13 08:33:16</td>\n",
       "      <td>2016-07-13 09:25:47</td>\n",
       "      <td>8</td>\n",
       "      <td>13</td>\n",
       "      <td>0</td>\n",
       "    </tr>\n",
       "  </tbody>\n",
       "</table>\n",
       "</div>"
      ],
      "text/plain": [
       "   Request id Pickup point  Driver id          Status   Request timestamp  \\\n",
       "0         619      Airport        1.0  Trip Completed 2016-07-11 11:51:00   \n",
       "1         867      Airport        1.0  Trip Completed 2016-07-11 17:57:00   \n",
       "2        1807         City        1.0  Trip Completed 2016-07-12 09:17:00   \n",
       "3        2532      Airport        1.0  Trip Completed 2016-07-12 21:08:00   \n",
       "4        3112         City        1.0  Trip Completed 2016-07-13 08:33:16   \n",
       "\n",
       "       Drop timestamp  req_hour  req_day  Time_Slot  \n",
       "0 2016-07-11 13:00:00        11       11          0  \n",
       "1 2016-07-11 18:47:00        17       11          0  \n",
       "2 2016-07-12 09:58:00         9       12          0  \n",
       "3 2016-07-12 22:03:00        21       12          0  \n",
       "4 2016-07-13 09:25:47         8       13          0  "
      ]
     },
     "execution_count": 26,
     "metadata": {},
     "output_type": "execute_result"
    }
   ],
   "source": [
    "df.head()"
   ]
  },
  {
   "cell_type": "markdown",
   "id": "1d311b71",
   "metadata": {},
   "source": [
    "### Hour Categories:\n",
    "\n",
    "req_hour<5 as \"Pre_Morning\"\n",
    "\n",
    "req_hour<10 as \"Morning_Rush\"\n",
    "\n",
    "req_hour<17 as \"Day_time\"\n",
    "\n",
    "req_hour<22 as \"Evening_Rush\"\n",
    "\n",
    "else: \"Late_Night\""
   ]
  },
  {
   "cell_type": "code",
   "execution_count": 27,
   "id": "6b69ce19",
   "metadata": {},
   "outputs": [],
   "source": [
    "j = 0\n",
    "\n",
    "for i in df[\"req_hour\"]:\n",
    "        if df.iloc[j,6] < 5:\n",
    "            df.iloc[j,8] = \"Pre_Morning\"\n",
    "        \n",
    "        elif 5 <= df.iloc[j,6] < 10:\n",
    "            df.iloc[j,8] = \"Morning_Rush\"\n",
    "        \n",
    "        elif 10 <= df.iloc[j,6] < 17:\n",
    "            df.iloc[j,8] = \"Day_time\"\n",
    "            \n",
    "        elif 17 <= df.iloc[j,6] < 22:\n",
    "            df.iloc[j,8] = \"Evening_Rush\"\n",
    "                    \n",
    "        else:\n",
    "            df.iloc[j,8] = \"Late_night\"\n",
    "        j=j+1"
   ]
  },
  {
   "cell_type": "code",
   "execution_count": 28,
   "id": "f62b27d1",
   "metadata": {},
   "outputs": [
    {
     "data": {
      "text/html": [
       "<div>\n",
       "<style scoped>\n",
       "    .dataframe tbody tr th:only-of-type {\n",
       "        vertical-align: middle;\n",
       "    }\n",
       "\n",
       "    .dataframe tbody tr th {\n",
       "        vertical-align: top;\n",
       "    }\n",
       "\n",
       "    .dataframe thead th {\n",
       "        text-align: right;\n",
       "    }\n",
       "</style>\n",
       "<table border=\"1\" class=\"dataframe\">\n",
       "  <thead>\n",
       "    <tr style=\"text-align: right;\">\n",
       "      <th></th>\n",
       "      <th>Request id</th>\n",
       "      <th>Pickup point</th>\n",
       "      <th>Driver id</th>\n",
       "      <th>Status</th>\n",
       "      <th>Request timestamp</th>\n",
       "      <th>Drop timestamp</th>\n",
       "      <th>req_hour</th>\n",
       "      <th>req_day</th>\n",
       "      <th>Time_Slot</th>\n",
       "    </tr>\n",
       "  </thead>\n",
       "  <tbody>\n",
       "    <tr>\n",
       "      <th>0</th>\n",
       "      <td>619</td>\n",
       "      <td>Airport</td>\n",
       "      <td>1.0</td>\n",
       "      <td>Trip Completed</td>\n",
       "      <td>2016-07-11 11:51:00</td>\n",
       "      <td>2016-07-11 13:00:00</td>\n",
       "      <td>11</td>\n",
       "      <td>11</td>\n",
       "      <td>Day_time</td>\n",
       "    </tr>\n",
       "    <tr>\n",
       "      <th>1</th>\n",
       "      <td>867</td>\n",
       "      <td>Airport</td>\n",
       "      <td>1.0</td>\n",
       "      <td>Trip Completed</td>\n",
       "      <td>2016-07-11 17:57:00</td>\n",
       "      <td>2016-07-11 18:47:00</td>\n",
       "      <td>17</td>\n",
       "      <td>11</td>\n",
       "      <td>Evening_Rush</td>\n",
       "    </tr>\n",
       "    <tr>\n",
       "      <th>2</th>\n",
       "      <td>1807</td>\n",
       "      <td>City</td>\n",
       "      <td>1.0</td>\n",
       "      <td>Trip Completed</td>\n",
       "      <td>2016-07-12 09:17:00</td>\n",
       "      <td>2016-07-12 09:58:00</td>\n",
       "      <td>9</td>\n",
       "      <td>12</td>\n",
       "      <td>Morning_Rush</td>\n",
       "    </tr>\n",
       "    <tr>\n",
       "      <th>3</th>\n",
       "      <td>2532</td>\n",
       "      <td>Airport</td>\n",
       "      <td>1.0</td>\n",
       "      <td>Trip Completed</td>\n",
       "      <td>2016-07-12 21:08:00</td>\n",
       "      <td>2016-07-12 22:03:00</td>\n",
       "      <td>21</td>\n",
       "      <td>12</td>\n",
       "      <td>Evening_Rush</td>\n",
       "    </tr>\n",
       "    <tr>\n",
       "      <th>4</th>\n",
       "      <td>3112</td>\n",
       "      <td>City</td>\n",
       "      <td>1.0</td>\n",
       "      <td>Trip Completed</td>\n",
       "      <td>2016-07-13 08:33:16</td>\n",
       "      <td>2016-07-13 09:25:47</td>\n",
       "      <td>8</td>\n",
       "      <td>13</td>\n",
       "      <td>Morning_Rush</td>\n",
       "    </tr>\n",
       "  </tbody>\n",
       "</table>\n",
       "</div>"
      ],
      "text/plain": [
       "   Request id Pickup point  Driver id          Status   Request timestamp  \\\n",
       "0         619      Airport        1.0  Trip Completed 2016-07-11 11:51:00   \n",
       "1         867      Airport        1.0  Trip Completed 2016-07-11 17:57:00   \n",
       "2        1807         City        1.0  Trip Completed 2016-07-12 09:17:00   \n",
       "3        2532      Airport        1.0  Trip Completed 2016-07-12 21:08:00   \n",
       "4        3112         City        1.0  Trip Completed 2016-07-13 08:33:16   \n",
       "\n",
       "       Drop timestamp  req_hour  req_day     Time_Slot  \n",
       "0 2016-07-11 13:00:00        11       11      Day_time  \n",
       "1 2016-07-11 18:47:00        17       11  Evening_Rush  \n",
       "2 2016-07-12 09:58:00         9       12  Morning_Rush  \n",
       "3 2016-07-12 22:03:00        21       12  Evening_Rush  \n",
       "4 2016-07-13 09:25:47         8       13  Morning_Rush  "
      ]
     },
     "execution_count": 28,
     "metadata": {},
     "output_type": "execute_result"
    }
   ],
   "source": [
    "df.head()"
   ]
  },
  {
   "cell_type": "code",
   "execution_count": 29,
   "id": "40d3e954",
   "metadata": {},
   "outputs": [
    {
     "data": {
      "text/plain": [
       "Evening_Rush    2342\n",
       "Morning_Rush    2103\n",
       "Day_time        1224\n",
       "Pre_Morning      578\n",
       "Late_night       498\n",
       "Name: Time_Slot, dtype: int64"
      ]
     },
     "execution_count": 29,
     "metadata": {},
     "output_type": "execute_result"
    }
   ],
   "source": [
    "df[\"Time_Slot\"].value_counts()"
   ]
  },
  {
   "cell_type": "markdown",
   "id": "6895f94e",
   "metadata": {},
   "source": [
    "### as per above count value \"Evening_Rush\" & \"Morning_Rush\" are the hours with maximum load."
   ]
  },
  {
   "cell_type": "code",
   "execution_count": 30,
   "id": "244dcb59",
   "metadata": {},
   "outputs": [
    {
     "data": {
      "image/png": "[encoded data removed]",
      "text/plain": [
       "<Figure size 864x432 with 1 Axes>"
      ]
     },
     "metadata": {
      "needs_background": "light"
     },
     "output_type": "display_data"
    }
   ],
   "source": [
    "# after the categories of day_time, morning rush etc. will make plot \n",
    "# nd also add status of the car during the day .\n",
    "\n",
    "plt.figure(figsize=(12,6))\n",
    "sns.countplot(x=\"Time_Slot\", hue=\"Status\", data=df)\n",
    "plt.title(\"Car availiblity in different hours categories\")\n",
    "plt.show()"
   ]
  },
  {
   "cell_type": "code",
   "execution_count": 31,
   "id": "1997499c",
   "metadata": {},
   "outputs": [],
   "source": [
    "df_morning_rush = df[df[\"Time_Slot\"] == \"Morning_Rush\"]"
   ]
  },
  {
   "cell_type": "code",
   "execution_count": 32,
   "id": "60e42920",
   "metadata": {},
   "outputs": [
    {
     "data": {
      "text/plain": [
       "<AxesSubplot:xlabel='Pickup point', ylabel='count'>"
      ]
     },
     "execution_count": 32,
     "metadata": {},
     "output_type": "execute_result"
    },
    {
     "data": {
      "image/png": "[encoded data removed]",
      "text/plain": [
       "<Figure size 432x288 with 1 Axes>"
      ]
     },
     "metadata": {
      "needs_background": "light"
     },
     "output_type": "display_data"
    }
   ],
   "source": [
    "sns.countplot(x = \"Pickup point\", hue=\"Status\", data=df_morning_rush)"
   ]
  },
  {
   "cell_type": "markdown",
   "id": "8a5f17f8",
   "metadata": {},
   "source": [
    "### Cancellation of cab as per the pickup location at morning rush hours:"
   ]
  },
  {
   "cell_type": "code",
   "execution_count": 33,
   "id": "66ccc29e",
   "metadata": {},
   "outputs": [
    {
     "data": {
      "text/plain": [
       "23"
      ]
     },
     "execution_count": 33,
     "metadata": {},
     "output_type": "execute_result"
    }
   ],
   "source": [
    "# pickup point = Airport = \"cancelled trip\" in morning rush:\n",
    "\n",
    "df_airport_cancelled = df_morning_rush.loc[(df_morning_rush[\"Pickup point\"]==\"Airport\") & (df_morning_rush[\"Status\"] == \"Cancelled\")]\n",
    "len(df_airport_cancelled)"
   ]
  },
  {
   "cell_type": "code",
   "execution_count": 34,
   "id": "817829ed",
   "metadata": {},
   "outputs": [
    {
     "data": {
      "text/plain": [
       "820"
      ]
     },
     "execution_count": 34,
     "metadata": {},
     "output_type": "execute_result"
    }
   ],
   "source": [
    "# pickup point = city = \"cancelled trip\" in morning rush:\n",
    "\n",
    "df_city_cancelled = df_morning_rush.loc[(df_morning_rush[\"Pickup point\"]==\"City\") & (df_morning_rush[\"Status\"]==\"Cancelled\")]\n",
    "len(df_city_cancelled)"
   ]
  },
  {
   "cell_type": "markdown",
   "id": "e86102c2",
   "metadata": {},
   "source": [
    "so, as above two Cells: there are 23 cars which is cancelled in Morning rush from the airport.\n",
    "\n",
    "and 820 cars are cancelled in morning rush from the city. --> so, in city demands are high nd cancellation ratio of city are higer than airport"
   ]
  },
  {
   "cell_type": "markdown",
   "id": "5f0214b7",
   "metadata": {},
   "source": [
    "### Morning Rush --> City"
   ]
  },
  {
   "cell_type": "code",
   "execution_count": 35,
   "id": "24c40518",
   "metadata": {},
   "outputs": [
    {
     "data": {
      "text/plain": [
       "1677"
      ]
     },
     "execution_count": 35,
     "metadata": {},
     "output_type": "execute_result"
    }
   ],
   "source": [
    "df_morning_rush[(df_morning_rush[\"Pickup point\"]==\"City\")].shape[0]"
   ]
  },
  {
   "cell_type": "code",
   "execution_count": 36,
   "id": "01e0da1b",
   "metadata": {},
   "outputs": [
    {
     "data": {
      "text/plain": [
       "820"
      ]
     },
     "execution_count": 36,
     "metadata": {},
     "output_type": "execute_result"
    }
   ],
   "source": [
    "# cancellation from city in morning_rush:\n",
    "df_morning_rush[(df_morning_rush[\"Pickup point\"]==\"City\") & (df_morning_rush[\"Status\"]==\"Cancelled\")].shape[0]"
   ]
  },
  {
   "cell_type": "code",
   "execution_count": 37,
   "id": "ab3aad8f",
   "metadata": {},
   "outputs": [
    {
     "data": {
      "text/plain": [
       "385"
      ]
     },
     "execution_count": 37,
     "metadata": {},
     "output_type": "execute_result"
    }
   ],
   "source": [
    "# 'no cars available' in city during morning_rush:\n",
    "df_morning_rush[(df_morning_rush[\"Pickup point\"]==\"City\") & (df_morning_rush[\"Status\"]==\"No Cars Available\")].shape[0]"
   ]
  },
  {
   "cell_type": "markdown",
   "id": "852ab5f3",
   "metadata": {},
   "source": [
    "### Morning Rush --> Airport"
   ]
  },
  {
   "cell_type": "code",
   "execution_count": 38,
   "id": "fe04f5b2",
   "metadata": {},
   "outputs": [
    {
     "data": {
      "text/plain": [
       "426"
      ]
     },
     "execution_count": 38,
     "metadata": {},
     "output_type": "execute_result"
    }
   ],
   "source": [
    "# total nos of pickup from airport durinng morning rush:\n",
    "df_morning_rush[(df_morning_rush[\"Pickup point\"]==\"Airport\")].shape[0]"
   ]
  },
  {
   "cell_type": "code",
   "execution_count": 39,
   "id": "3ea8ddd4",
   "metadata": {},
   "outputs": [
    {
     "data": {
      "text/plain": [
       "23"
      ]
     },
     "execution_count": 39,
     "metadata": {},
     "output_type": "execute_result"
    }
   ],
   "source": [
    "# total nnos of acncellation from airport during morning rush:\n",
    "df_morning_rush[(df_morning_rush[\"Pickup point\"]==\"Airport\") & (df_morning_rush[\"Status\"]==\"Cancelled\")].shape[0]"
   ]
  },
  {
   "cell_type": "code",
   "execution_count": 40,
   "id": "8dd33ae7",
   "metadata": {},
   "outputs": [
    {
     "data": {
      "text/plain": [
       "382"
      ]
     },
     "execution_count": 40,
     "metadata": {},
     "output_type": "execute_result"
    }
   ],
   "source": [
    "# total nos of 'trip completed' from airport during morning rush:\n",
    "df_morning_rush[(df_morning_rush[\"Pickup point\"]==\"Airport\") & (df_morning_rush[\"Status\"]==\"Trip Completed\")].shape[0]"
   ]
  },
  {
   "cell_type": "code",
   "execution_count": 42,
   "id": "f4d53d82",
   "metadata": {},
   "outputs": [
    {
     "data": {
      "text/plain": [
       "21"
      ]
     },
     "execution_count": 42,
     "metadata": {},
     "output_type": "execute_result"
    }
   ],
   "source": [
    "# total nos of 'no cars availablity' from airport during morning rush:\n",
    "df_morning_rush[(df_morning_rush[\"Pickup point\"]==\"Airport\") & (df_morning_rush[\"Status\"]==\"No Cars Available\")].shape[0]"
   ]
  },
  {
   "cell_type": "markdown",
   "id": "d753b615",
   "metadata": {},
   "source": [
    "### Evening Rush:"
   ]
  },
  {
   "cell_type": "code",
   "execution_count": 43,
   "id": "4aebf084",
   "metadata": {},
   "outputs": [
    {
     "data": {
      "text/html": [
       "<div>\n",
       "<style scoped>\n",
       "    .dataframe tbody tr th:only-of-type {\n",
       "        vertical-align: middle;\n",
       "    }\n",
       "\n",
       "    .dataframe tbody tr th {\n",
       "        vertical-align: top;\n",
       "    }\n",
       "\n",
       "    .dataframe thead th {\n",
       "        text-align: right;\n",
       "    }\n",
       "</style>\n",
       "<table border=\"1\" class=\"dataframe\">\n",
       "  <thead>\n",
       "    <tr style=\"text-align: right;\">\n",
       "      <th></th>\n",
       "      <th>Request id</th>\n",
       "      <th>Pickup point</th>\n",
       "      <th>Driver id</th>\n",
       "      <th>Status</th>\n",
       "      <th>Request timestamp</th>\n",
       "      <th>Drop timestamp</th>\n",
       "      <th>req_hour</th>\n",
       "      <th>req_day</th>\n",
       "      <th>Time_Slot</th>\n",
       "    </tr>\n",
       "  </thead>\n",
       "  <tbody>\n",
       "    <tr>\n",
       "      <th>1</th>\n",
       "      <td>867</td>\n",
       "      <td>Airport</td>\n",
       "      <td>1.0</td>\n",
       "      <td>Trip Completed</td>\n",
       "      <td>2016-07-11 17:57:00</td>\n",
       "      <td>2016-07-11 18:47:00</td>\n",
       "      <td>17</td>\n",
       "      <td>11</td>\n",
       "      <td>Evening_Rush</td>\n",
       "    </tr>\n",
       "    <tr>\n",
       "      <th>3</th>\n",
       "      <td>2532</td>\n",
       "      <td>Airport</td>\n",
       "      <td>1.0</td>\n",
       "      <td>Trip Completed</td>\n",
       "      <td>2016-07-12 21:08:00</td>\n",
       "      <td>2016-07-12 22:03:00</td>\n",
       "      <td>21</td>\n",
       "      <td>12</td>\n",
       "      <td>Evening_Rush</td>\n",
       "    </tr>\n",
       "    <tr>\n",
       "      <th>5</th>\n",
       "      <td>3879</td>\n",
       "      <td>Airport</td>\n",
       "      <td>1.0</td>\n",
       "      <td>Trip Completed</td>\n",
       "      <td>2016-07-13 21:57:28</td>\n",
       "      <td>2016-07-13 22:28:59</td>\n",
       "      <td>21</td>\n",
       "      <td>13</td>\n",
       "      <td>Evening_Rush</td>\n",
       "    </tr>\n",
       "    <tr>\n",
       "      <th>8</th>\n",
       "      <td>6248</td>\n",
       "      <td>City</td>\n",
       "      <td>1.0</td>\n",
       "      <td>Trip Completed</td>\n",
       "      <td>2016-07-15 17:57:27</td>\n",
       "      <td>2016-07-15 18:50:51</td>\n",
       "      <td>17</td>\n",
       "      <td>15</td>\n",
       "      <td>Evening_Rush</td>\n",
       "    </tr>\n",
       "    <tr>\n",
       "      <th>15</th>\n",
       "      <td>3482</td>\n",
       "      <td>Airport</td>\n",
       "      <td>2.0</td>\n",
       "      <td>Trip Completed</td>\n",
       "      <td>2016-07-13 17:23:18</td>\n",
       "      <td>2016-07-13 18:20:51</td>\n",
       "      <td>17</td>\n",
       "      <td>13</td>\n",
       "      <td>Evening_Rush</td>\n",
       "    </tr>\n",
       "  </tbody>\n",
       "</table>\n",
       "</div>"
      ],
      "text/plain": [
       "    Request id Pickup point  Driver id          Status   Request timestamp  \\\n",
       "1          867      Airport        1.0  Trip Completed 2016-07-11 17:57:00   \n",
       "3         2532      Airport        1.0  Trip Completed 2016-07-12 21:08:00   \n",
       "5         3879      Airport        1.0  Trip Completed 2016-07-13 21:57:28   \n",
       "8         6248         City        1.0  Trip Completed 2016-07-15 17:57:27   \n",
       "15        3482      Airport        2.0  Trip Completed 2016-07-13 17:23:18   \n",
       "\n",
       "        Drop timestamp  req_hour  req_day     Time_Slot  \n",
       "1  2016-07-11 18:47:00        17       11  Evening_Rush  \n",
       "3  2016-07-12 22:03:00        21       12  Evening_Rush  \n",
       "5  2016-07-13 22:28:59        21       13  Evening_Rush  \n",
       "8  2016-07-15 18:50:51        17       15  Evening_Rush  \n",
       "15 2016-07-13 18:20:51        17       13  Evening_Rush  "
      ]
     },
     "execution_count": 43,
     "metadata": {},
     "output_type": "execute_result"
    }
   ],
   "source": [
    "df_evening_rush= df[df[\"Time_Slot\"]== \"Evening_Rush\"]\n",
    "df_evening_rush.head()"
   ]
  },
  {
   "cell_type": "code",
   "execution_count": 44,
   "id": "50289c07",
   "metadata": {},
   "outputs": [],
   "source": [
    "df_city_cancelled=df_evening_rush[(df_evening_rush[\"Pickup point\"]==\"City\") & (df_evening_rush[\"Status\"]==\"CAncelled\")]"
   ]
  },
  {
   "cell_type": "code",
   "execution_count": 45,
   "id": "6919b851",
   "metadata": {},
   "outputs": [
    {
     "data": {
      "text/plain": [
       "Text(0.5, 1.0, 'Pickup points & cars availiblity during evening rush')"
      ]
     },
     "execution_count": 45,
     "metadata": {},
     "output_type": "execute_result"
    },
    {
     "data": {
      "image/png": "[encoded data removed]",
      "text/plain": [
       "<Figure size 864x432 with 1 Axes>"
      ]
     },
     "metadata": {
      "needs_background": "light"
     },
     "output_type": "display_data"
    }
   ],
   "source": [
    "# making a plot for evening rish :\n",
    "\n",
    "plt.figure(figsize=(12,6))\n",
    "sns.countplot(x= \"Pickup point\", hue=\"Status\", data= df_evening_rush)\n",
    "plt.title(\"Pickup points & cars availiblity during evening rush\")"
   ]
  },
  {
   "cell_type": "code",
   "execution_count": 46,
   "id": "3c02ff3d",
   "metadata": {},
   "outputs": [
    {
     "data": {
      "text/plain": [
       "No Cars Available    1392\n",
       "Trip Completed        784\n",
       "Cancelled             166\n",
       "Name: Status, dtype: int64"
      ]
     },
     "execution_count": 46,
     "metadata": {},
     "output_type": "execute_result"
    }
   ],
   "source": [
    "df_evening_rush[\"Status\"].value_counts()"
   ]
  },
  {
   "cell_type": "markdown",
   "id": "6bf5c4f0",
   "metadata": {},
   "source": [
    "### Evening Rush in City:"
   ]
  },
  {
   "cell_type": "code",
   "execution_count": 47,
   "id": "05e5e961",
   "metadata": {},
   "outputs": [
    {
     "data": {
      "text/plain": [
       "542"
      ]
     },
     "execution_count": 47,
     "metadata": {},
     "output_type": "execute_result"
    }
   ],
   "source": [
    "# total nos of cars in city during Evening rush:\n",
    "df_evening_rush[(df_evening_rush[\"Pickup point\"]==\"City\")].shape[0]"
   ]
  },
  {
   "cell_type": "code",
   "execution_count": 48,
   "id": "af3b8851",
   "metadata": {},
   "outputs": [
    {
     "data": {
      "text/plain": [
       "60"
      ]
     },
     "execution_count": 48,
     "metadata": {},
     "output_type": "execute_result"
    }
   ],
   "source": [
    "#total nos of cancelled cars in city during Evening rush:\n",
    "df_evening_rush[(df_evening_rush[\"Pickup point\"]==\"City\") & (df_evening_rush[\"Status\"]==\"Cancelled\")].shape[0]"
   ]
  },
  {
   "cell_type": "code",
   "execution_count": 49,
   "id": "556c8f94",
   "metadata": {},
   "outputs": [
    {
     "data": {
      "text/plain": [
       "411"
      ]
     },
     "execution_count": 49,
     "metadata": {},
     "output_type": "execute_result"
    }
   ],
   "source": [
    "# total nos trip completed in city during Evening rush:\n",
    "df_evening_rush[(df_evening_rush[\"Pickup point\"]==\"City\") & (df_evening_rush[\"Status\"]==\"Trip Completed\")].shape[0]"
   ]
  },
  {
   "cell_type": "code",
   "execution_count": 50,
   "id": "8a4989ec",
   "metadata": {},
   "outputs": [
    {
     "data": {
      "text/plain": [
       "71"
      ]
     },
     "execution_count": 50,
     "metadata": {},
     "output_type": "execute_result"
    }
   ],
   "source": [
    "# total nos of cars are not available in city during Evening rush:\n",
    "df_evening_rush[(df_evening_rush[\"Pickup point\"]==\"City\") & (df_evening_rush[\"Status\"]==\"No Cars Available\")].shape[0]"
   ]
  },
  {
   "cell_type": "markdown",
   "id": "41d2106b",
   "metadata": {},
   "source": [
    "### Evening Rush at Airport:"
   ]
  },
  {
   "cell_type": "code",
   "execution_count": 51,
   "id": "f786a5b7",
   "metadata": {},
   "outputs": [
    {
     "data": {
      "text/plain": [
       "1800"
      ]
     },
     "execution_count": 51,
     "metadata": {},
     "output_type": "execute_result"
    }
   ],
   "source": [
    "df_evening_rush[(df_evening_rush[\"Pickup point\"]==\"Airport\")].shape[0]"
   ]
  },
  {
   "cell_type": "code",
   "execution_count": 52,
   "id": "1bffa5ca",
   "metadata": {},
   "outputs": [
    {
     "data": {
      "text/plain": [
       "106"
      ]
     },
     "execution_count": 52,
     "metadata": {},
     "output_type": "execute_result"
    }
   ],
   "source": [
    "df_evening_rush[(df_evening_rush[\"Pickup point\"]==\"Airport\") & (df_evening_rush[\"Status\"]==\"Cancelled\")].shape[0]"
   ]
  },
  {
   "cell_type": "code",
   "execution_count": 53,
   "id": "afa49a61",
   "metadata": {},
   "outputs": [
    {
     "data": {
      "text/plain": [
       "373"
      ]
     },
     "execution_count": 53,
     "metadata": {},
     "output_type": "execute_result"
    }
   ],
   "source": [
    "df_evening_rush[(df_evening_rush[\"Pickup point\"]==\"Airport\") & (df_evening_rush[\"Status\"]==\"Trip Completed\")].shape[0]"
   ]
  },
  {
   "cell_type": "code",
   "execution_count": 54,
   "id": "9a0fafaa",
   "metadata": {},
   "outputs": [
    {
     "data": {
      "text/plain": [
       "1321"
      ]
     },
     "execution_count": 54,
     "metadata": {},
     "output_type": "execute_result"
    }
   ],
   "source": [
    "df_evening_rush[(df_evening_rush[\"Pickup point\"]==\"Airport\") & (df_evening_rush[\"Status\"]==\"No Cars Available\")].shape[0]"
   ]
  },
  {
   "cell_type": "markdown",
   "id": "74b8e014",
   "metadata": {},
   "source": [
    "### Pie-Chart:"
   ]
  },
  {
   "cell_type": "code",
   "execution_count": 55,
   "id": "70b050a5",
   "metadata": {},
   "outputs": [],
   "source": [
    "df_morning_city= df[(df[\"Pickup point\"]==\"City\") & (df[\"Time_Slot\"]==\"Morning_Rush\")]"
   ]
  },
  {
   "cell_type": "code",
   "execution_count": 56,
   "id": "afbd1a66",
   "metadata": {},
   "outputs": [],
   "source": [
    "df_morning_city_count=pd.DataFrame(df_morning_city[\"Status\"].value_counts())"
   ]
  },
  {
   "cell_type": "code",
   "execution_count": 57,
   "id": "ca7612b6",
   "metadata": {},
   "outputs": [
    {
     "data": {
      "text/html": [
       "<div>\n",
       "<style scoped>\n",
       "    .dataframe tbody tr th:only-of-type {\n",
       "        vertical-align: middle;\n",
       "    }\n",
       "\n",
       "    .dataframe tbody tr th {\n",
       "        vertical-align: top;\n",
       "    }\n",
       "\n",
       "    .dataframe thead th {\n",
       "        text-align: right;\n",
       "    }\n",
       "</style>\n",
       "<table border=\"1\" class=\"dataframe\">\n",
       "  <thead>\n",
       "    <tr style=\"text-align: right;\">\n",
       "      <th></th>\n",
       "      <th>Status</th>\n",
       "    </tr>\n",
       "  </thead>\n",
       "  <tbody>\n",
       "    <tr>\n",
       "      <th>Cancelled</th>\n",
       "      <td>820</td>\n",
       "    </tr>\n",
       "    <tr>\n",
       "      <th>Trip Completed</th>\n",
       "      <td>472</td>\n",
       "    </tr>\n",
       "    <tr>\n",
       "      <th>No Cars Available</th>\n",
       "      <td>385</td>\n",
       "    </tr>\n",
       "  </tbody>\n",
       "</table>\n",
       "</div>"
      ],
      "text/plain": [
       "                   Status\n",
       "Cancelled             820\n",
       "Trip Completed        472\n",
       "No Cars Available     385"
      ]
     },
     "execution_count": 57,
     "metadata": {},
     "output_type": "execute_result"
    }
   ],
   "source": [
    "df_morning_city_count"
   ]
  },
  {
   "cell_type": "code",
   "execution_count": 58,
   "id": "59bdc4c4",
   "metadata": {},
   "outputs": [
    {
     "data": {
      "text/plain": [
       "array([820, 472, 385], dtype=int64)"
      ]
     },
     "execution_count": 58,
     "metadata": {},
     "output_type": "execute_result"
    }
   ],
   "source": [
    "df_morning_city_count[\"Status\"].values"
   ]
  },
  {
   "cell_type": "code",
   "execution_count": 59,
   "id": "c2ecbdc1",
   "metadata": {},
   "outputs": [
    {
     "data": {
      "text/plain": [
       "Index(['Cancelled', 'Trip Completed', 'No Cars Available'], dtype='object')"
      ]
     },
     "execution_count": 59,
     "metadata": {},
     "output_type": "execute_result"
    }
   ],
   "source": [
    "df_morning_city_count[\"Status\"].index"
   ]
  },
  {
   "cell_type": "code",
   "execution_count": 60,
   "id": "ac7b9288",
   "metadata": {},
   "outputs": [
    {
     "data": {
      "image/png": "[encoded data removed]",
      "text/plain": [
       "<Figure size 432x288 with 1 Axes>"
      ]
     },
     "metadata": {},
     "output_type": "display_data"
    }
   ],
   "source": [
    "fig,ax = plt.subplots()\n",
    "ax.pie(df_morning_city_count[\"Status\"].values, labels = df_morning_city_count[\"Status\"].index,\n",
    "          autopct=\"%.2f%%\", startangle=200)\n",
    "plt.show()"
   ]
  },
  {
   "cell_type": "code",
   "execution_count": 61,
   "id": "83c78e44",
   "metadata": {},
   "outputs": [
    {
     "data": {
      "text/html": [
       "<div>\n",
       "<style scoped>\n",
       "    .dataframe tbody tr th:only-of-type {\n",
       "        vertical-align: middle;\n",
       "    }\n",
       "\n",
       "    .dataframe tbody tr th {\n",
       "        vertical-align: top;\n",
       "    }\n",
       "\n",
       "    .dataframe thead th {\n",
       "        text-align: right;\n",
       "    }\n",
       "</style>\n",
       "<table border=\"1\" class=\"dataframe\">\n",
       "  <thead>\n",
       "    <tr style=\"text-align: right;\">\n",
       "      <th></th>\n",
       "      <th>Status</th>\n",
       "    </tr>\n",
       "  </thead>\n",
       "  <tbody>\n",
       "    <tr>\n",
       "      <th>No Cars Available</th>\n",
       "      <td>1321</td>\n",
       "    </tr>\n",
       "    <tr>\n",
       "      <th>Trip Completed</th>\n",
       "      <td>373</td>\n",
       "    </tr>\n",
       "    <tr>\n",
       "      <th>Cancelled</th>\n",
       "      <td>106</td>\n",
       "    </tr>\n",
       "  </tbody>\n",
       "</table>\n",
       "</div>"
      ],
      "text/plain": [
       "                   Status\n",
       "No Cars Available    1321\n",
       "Trip Completed        373\n",
       "Cancelled             106"
      ]
     },
     "execution_count": 61,
     "metadata": {},
     "output_type": "execute_result"
    }
   ],
   "source": [
    "df_evening_airport=df[(df[\"Pickup point\"]==\"Airport\") & (df[\"Time_Slot\"]==\"Evening_Rush\")]\n",
    "df_evening_airport_count=pd.DataFrame(df_evening_airport[\"Status\"].value_counts())\n",
    "df_evening_airport_count"
   ]
  },
  {
   "cell_type": "code",
   "execution_count": 62,
   "id": "c89cba76",
   "metadata": {},
   "outputs": [
    {
     "data": {
      "text/plain": [
       "array([1321,  373,  106], dtype=int64)"
      ]
     },
     "execution_count": 62,
     "metadata": {},
     "output_type": "execute_result"
    }
   ],
   "source": [
    "df_evening_airport_count[\"Status\"].values"
   ]
  },
  {
   "cell_type": "code",
   "execution_count": 63,
   "id": "dc69c510",
   "metadata": {},
   "outputs": [
    {
     "data": {
      "text/plain": [
       "Index(['No Cars Available', 'Trip Completed', 'Cancelled'], dtype='object')"
      ]
     },
     "execution_count": 63,
     "metadata": {},
     "output_type": "execute_result"
    }
   ],
   "source": [
    "df_evening_airport_count[\"Status\"].index"
   ]
  },
  {
   "cell_type": "code",
   "execution_count": 64,
   "id": "94cab65b",
   "metadata": {},
   "outputs": [
    {
     "data": {
      "image/png": "[encoded data removed]",
      "text/plain": [
       "<Figure size 432x288 with 1 Axes>"
      ]
     },
     "metadata": {},
     "output_type": "display_data"
    }
   ],
   "source": [
    "fig,ax=plt.subplots()\n",
    "ax.pie(df_evening_airport_count[\"Status\"].values,labels=df_evening_airport_count[\"Status\"].index,\n",
    "      autopct=\"%.2f%%\",startangle=90)\n",
    "plt.show()"
   ]
  },
  {
   "cell_type": "markdown",
   "id": "d528f520",
   "metadata": {},
   "source": [
    "--> Understanding dataset with the numbers of users requests and with the number of columns along with others facts with adding coloumns like \"req_day\" nd \"req_hour\". with this extra col. understand the data such as number/percentage of nans in each columns and drop timestamp columns.\n",
    "\n",
    "--> Format of dateTime in the request and drop timestamp columns.\n",
    "\n",
    "--> Extracted the day number and hour from the request timestamp columns to perform a deeper analysis.\n",
    "\n",
    "--> Between 5AM- 9AM, the load on cabs are high in city and also trip commpleted in high range.\n",
    "\n",
    "--> Like wise between 5PM - 9PM , the load on cab is high but at the airport. hence there is mismatch beetween cab demand and availiblity.\n",
    "\n",
    "--> The \"Morning_Rush\" and \"Evening_Rush\" are the hours with maximum load.\n",
    "\n",
    "--> During the \"Evening_Rush\" hours, NO CARS AVAILABLE status for the trip booking from \"Airport\"."
   ]
  },
  {
   "cell_type": "code",
   "execution_count": null,
   "id": "fc99af10",
   "metadata": {},
   "outputs": [],
   "source": []
  }
 ],
 "metadata": {
  "kernelspec": {
   "display_name": "Python 3 (ipykernel)",
   "language": "python",
   "name": "python3"
  },
  "language_info": {
   "codemirror_mode": {
    "name": "ipython",
    "version": 3
   },
   "file_extension": ".py",
   "mimetype": "text/x-python",
   "name": "python",
   "nbconvert_exporter": "python",
   "pygments_lexer": "ipython3",
   "version": "3.10.1"
  }
 },
 "nbformat": 4,
 "nbformat_minor": 5
}
